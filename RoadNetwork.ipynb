{
  "nbformat": 4,
  "nbformat_minor": 0,
  "metadata": {
    "colab": {
      "provenance": [],
      "authorship_tag": "ABX9TyMQaeCJHoRz4ICbeoWlbbLe"
    },
    "kernelspec": {
      "name": "python3",
      "display_name": "Python 3"
    },
    "language_info": {
      "name": "python"
    }
  },
  "cells": [
    {
      "cell_type": "code",
      "execution_count": 59,
      "metadata": {
        "colab": {
          "base_uri": "https://localhost:8080/",
          "height": 533
        },
        "id": "l4G2T1q1gARL",
        "outputId": "dda9a55f-f12d-4c55-b6f6-0759c2dc9bf9"
      },
      "outputs": [
        {
          "output_type": "stream",
          "name": "stdout",
          "text": [
            "Graph with 8 nodes and 9 edges\n"
          ]
        },
        {
          "output_type": "display_data",
          "data": {
            "text/plain": [
              "<Figure size 640x480 with 1 Axes>"
            ],
            "image/png": "[encoded data removed]"
          },
          "metadata": {}
        }
      ],
      "source": [
        "import networkx as nx\n",
        "import matplotlib.pyplot as plt\n",
        "import random\n",
        "import sys # for exception handeling\n",
        "\n",
        "def create_network(city_set,costs,num_edges):\n",
        "\n",
        "  g=nx.Graph() #undirected graph , for directed nx.DiGraph()\n",
        "\n",
        "  for each in city_set:\n",
        "    g.add_node(each)\n",
        "\n",
        "  # adding edges to network\n",
        "  while(g.number_of_edges()<num_edges):\n",
        "  # picking random 2 cities to make edges\n",
        "    c1 = random.choice(list(g.nodes()))\n",
        "    c2 = random.choice(list(g.nodes()))\n",
        "    if(c1!=c2 and g.has_edge(c1,c2)==0):\n",
        "      # assigning random cost as weight to the edge\n",
        "      w=random.choice(costs)\n",
        "      g.add_edge(c1,c2,weight=w)\n",
        "  return g\n",
        "\n",
        "city_set=['Delhi','Banglore','Hydrabad','Kaithal','Noida','Pune','Jammu','Surat']\n",
        "\n",
        "costs = []\n",
        "value=100\n",
        "while(value<=2000):\n",
        "  costs.append(value)\n",
        "  value+=100\n",
        "\n",
        "\n",
        "# for viewing spectral layout\n",
        "# pos = nx.spectral_layout(g)\n",
        "# pos = nx.spring_layout(g)\n",
        "\n",
        "pos = nx.circular_layout(g)\n",
        "nx.draw(g,with_labels=True)\n",
        "\n",
        "# to show weight of edges\n",
        "# nx.draw_networkx_edge_labels(g,pos)\n",
        "p=create_network(city_set,costs,9)\n",
        "print(p)\n",
        "\n"
      ]
    },
    {
      "cell_type": "code",
      "source": [
        "# To check if graph is connected\n",
        "print (nx.is_connected(g))"
      ],
      "metadata": {
        "id": "gi3o68IshePc",
        "colab": {
          "base_uri": "https://localhost:8080/"
        },
        "outputId": "d7921d35-4657-42d8-cbc5-2c6698479430"
      },
      "execution_count": 60,
      "outputs": [
        {
          "output_type": "stream",
          "name": "stdout",
          "text": [
            "False\n"
          ]
        }
      ]
    },
    {
      "cell_type": "code",
      "source": [
        "# check if ath exist between every possible nodes\n",
        "for i in g.nodes():\n",
        "  for j in g.nodes():\n",
        "    print(i,j,nx.has_path(g,i,j))"
      ],
      "metadata": {
        "id": "Pvl3qoXirQcK",
        "colab": {
          "base_uri": "https://localhost:8080/"
        },
        "outputId": "2892600c-7b2a-4326-88d8-42308a6f9cab"
      },
      "execution_count": 61,
      "outputs": [
        {
          "output_type": "stream",
          "name": "stdout",
          "text": [
            "Delhi Delhi True\n",
            "Delhi Banglore False\n",
            "Delhi Hydrabad False\n",
            "Delhi Kaithal False\n",
            "Delhi Noida False\n",
            "Delhi Pune False\n",
            "Delhi Jammu False\n",
            "Delhi Surat False\n",
            "Banglore Delhi False\n",
            "Banglore Banglore True\n",
            "Banglore Hydrabad True\n",
            "Banglore Kaithal True\n",
            "Banglore Noida True\n",
            "Banglore Pune False\n",
            "Banglore Jammu True\n",
            "Banglore Surat True\n",
            "Hydrabad Delhi False\n",
            "Hydrabad Banglore True\n",
            "Hydrabad Hydrabad True\n",
            "Hydrabad Kaithal True\n",
            "Hydrabad Noida True\n",
            "Hydrabad Pune False\n",
            "Hydrabad Jammu True\n",
            "Hydrabad Surat True\n",
            "Kaithal Delhi False\n",
            "Kaithal Banglore True\n",
            "Kaithal Hydrabad True\n",
            "Kaithal Kaithal True\n",
            "Kaithal Noida True\n",
            "Kaithal Pune False\n",
            "Kaithal Jammu True\n",
            "Kaithal Surat True\n",
            "Noida Delhi False\n",
            "Noida Banglore True\n",
            "Noida Hydrabad True\n",
            "Noida Kaithal True\n",
            "Noida Noida True\n",
            "Noida Pune False\n",
            "Noida Jammu True\n",
            "Noida Surat True\n",
            "Pune Delhi False\n",
            "Pune Banglore False\n",
            "Pune Hydrabad False\n",
            "Pune Kaithal False\n",
            "Pune Noida False\n",
            "Pune Pune True\n",
            "Pune Jammu False\n",
            "Pune Surat False\n",
            "Jammu Delhi False\n",
            "Jammu Banglore True\n",
            "Jammu Hydrabad True\n",
            "Jammu Kaithal True\n",
            "Jammu Noida True\n",
            "Jammu Pune False\n",
            "Jammu Jammu True\n",
            "Jammu Surat True\n",
            "Surat Delhi False\n",
            "Surat Banglore True\n",
            "Surat Hydrabad True\n",
            "Surat Kaithal True\n",
            "Surat Noida True\n",
            "Surat Pune False\n",
            "Surat Jammu True\n",
            "Surat Surat True\n"
          ]
        }
      ]
    },
    {
      "cell_type": "code",
      "source": [
        "# shortest path\n",
        "u='Banglore'\n",
        "v='Surat'\n",
        "try:\n",
        "  print(nx.dijkstra_path(g,u,v))\n",
        "  print(nx.dijkstra_path(g,\"Delhi\",'Pune'))\n",
        "  print(nx.dijkstra_path_length(g,u,v))\n",
        "  print(nx.dijkstra_path_length(g,\"Banglore\",\"Hydrabad\"))\n",
        "  print(nx.dijkstra_path_length(g,\"Jammu\",\"Noida\"))\n",
        "  print(nx.single_source_dijkstra_path(g,\"Banglore\"))\n",
        "  print(nx.single_source_dijkstra_path_length(g,\"Banglore\"))\n",
        "except:\n",
        "  print(\"infinity\")"
      ],
      "metadata": {
        "colab": {
          "base_uri": "https://localhost:8080/"
        },
        "id": "ypOCAzhmDwpn",
        "outputId": "4e7e936d-ad5a-4598-86f6-6fb185fa5b70"
      },
      "execution_count": 62,
      "outputs": [
        {
          "output_type": "stream",
          "name": "stdout",
          "text": [
            "['Banglore', 'Kaithal', 'Surat']\n",
            "infinity\n"
          ]
        }
      ]
    },
    {
      "cell_type": "code",
      "source": [],
      "metadata": {
        "id": "YkRATbhmH8EZ"
      },
      "execution_count": null,
      "outputs": []
    }
  ]
}